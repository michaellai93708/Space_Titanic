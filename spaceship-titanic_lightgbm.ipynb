{
 "cells": [
  {
   "cell_type": "code",
   "execution_count": 13,
   "id": "synthetic-interaction",
   "metadata": {},
   "outputs": [
    {
     "name": "stdout",
     "output_type": "stream",
     "text": [
      "     HomePlanet CryoSleep     Cabin    Destination   Age    VIP  RoomService  \\\n",
      "0        Europa     False     B/0/P    TRAPPIST-1e  39.0  False          0.0   \n",
      "1         Earth     False     F/0/S    TRAPPIST-1e  24.0  False        109.0   \n",
      "2        Europa     False     A/0/S    TRAPPIST-1e  58.0   True         43.0   \n",
      "3        Europa     False     A/0/S    TRAPPIST-1e  33.0  False          0.0   \n",
      "4         Earth     False     F/1/S    TRAPPIST-1e  16.0  False        303.0   \n",
      "...         ...       ...       ...            ...   ...    ...          ...   \n",
      "8688     Europa     False    A/98/P    55 Cancri e  41.0   True          0.0   \n",
      "8689      Earth      True  G/1499/S  PSO J318.5-22  18.0  False          0.0   \n",
      "8690      Earth     False  G/1500/S    TRAPPIST-1e  26.0  False          0.0   \n",
      "8691     Europa     False   E/608/S    55 Cancri e  32.0  False          0.0   \n",
      "8692     Europa     False   E/608/S    TRAPPIST-1e  44.0  False        126.0   \n",
      "\n",
      "      FoodCourt  ShoppingMall     Spa  VRDeck  \n",
      "0           0.0           0.0     0.0     0.0  \n",
      "1           9.0          25.0   549.0    44.0  \n",
      "2        3576.0           0.0  6715.0    49.0  \n",
      "3        1283.0         371.0  3329.0   193.0  \n",
      "4          70.0         151.0   565.0     2.0  \n",
      "...         ...           ...     ...     ...  \n",
      "8688     6819.0           0.0  1643.0    74.0  \n",
      "8689        0.0           0.0     0.0     0.0  \n",
      "8690        0.0        1872.0     1.0     0.0  \n",
      "8691     1049.0           0.0   353.0  3235.0  \n",
      "8692     4688.0           0.0     0.0    12.0  \n",
      "\n",
      "[8693 rows x 11 columns]       Transported\n",
      "0           False\n",
      "1            True\n",
      "2           False\n",
      "3           False\n",
      "4            True\n",
      "...           ...\n",
      "8688        False\n",
      "8689        False\n",
      "8690         True\n",
      "8691        False\n",
      "8692         True\n",
      "\n",
      "[8693 rows x 1 columns]\n"
     ]
    }
   ],
   "source": [
    "import pandas as pd\n",
    "from statistics import mean\n",
    "data_train = pd.read_csv('/Users/michael/Desktop/spaceship-titanic/train.csv')\n",
    "data_test = pd.read_csv('/Users/michael/Desktop/spaceship-titanic/test.csv')\n",
    "\n",
    "x, y = data_train.iloc[:, 1:-2], data_train.iloc[:, [-1]]\n",
    "x_test = data_test.iloc[:, 1:-1]\n",
    "print(x, y)"
   ]
  },
  {
   "cell_type": "code",
   "execution_count": 14,
   "id": "forced-municipality",
   "metadata": {},
   "outputs": [
    {
     "data": {
      "text/plain": [
       "HomePlanet      201\n",
       "CryoSleep       217\n",
       "Cabin           199\n",
       "Destination     182\n",
       "Age             179\n",
       "VIP             203\n",
       "RoomService     181\n",
       "FoodCourt       183\n",
       "ShoppingMall    208\n",
       "Spa             183\n",
       "VRDeck          188\n",
       "dtype: int64"
      ]
     },
     "execution_count": 14,
     "metadata": {},
     "output_type": "execute_result"
    }
   ],
   "source": [
    "x.isnull().sum()"
   ]
  },
  {
   "cell_type": "code",
   "execution_count": null,
   "id": "important-bolivia",
   "metadata": {},
   "outputs": [],
   "source": [
    "from sklearn.impute import SimpleImputer\n",
    "imputer_cols = [\"Age\", \"FoodCourt\", \"ShoppingMall\", \"Spa\", \"VRDeck\" ,\"RoomService\"]\n",
    "imputer = SimpleImputer(strategy='mean')\n",
    "imputer.fit(x[imputer_cols])\n",
    "x[imputer_cols] = imputer.transform(x[imputer_cols])\n",
    "x_test[imputer_cols] = imputer.transform(x_test[imputer_cols])\n",
    "x['HomePlanet'].fillna(\"z\", inplace = True)\n",
    "x_test['HomePlanet'].fillna(\"z\", inplace = True)\n",
    "\n",
    "from sklearn.preprocessing import LabelEncoder\n",
    "encode_list = ['HomePlanet', 'CryoSleep', 'Cabin' , 'Destination', 'VIP']\n",
    "for i in encode_list:\n",
    "    x[i] = LabelEncoder().fit_transform(x[i])\n",
    "    x_test[i] = LabelEncoder().fit_transform(x_test[i])\n",
    "    \n",
    "print(x.isnull().sum())"
   ]
  },
  {
   "cell_type": "code",
   "execution_count": 2,
   "id": "federal-intention",
   "metadata": {},
   "outputs": [],
   "source": [
    "from sklearn.model_selection import train_test_split\n",
    "X_train,X_test,y_train,y_test=train_test_split(x,y,test_size=0.25,random_state=0)"
   ]
  },
  {
   "cell_type": "code",
   "execution_count": 3,
   "id": "patent-dialogue",
   "metadata": {},
   "outputs": [
    {
     "name": "stdout",
     "output_type": "stream",
     "text": [
      "[LightGBM] [Info] Number of positive: 3281, number of negative: 3238\n",
      "[LightGBM] [Warning] Auto-choosing row-wise multi-threading, the overhead of testing was 0.000489 seconds.\n",
      "You can set `force_row_wise=true` to remove the overhead.\n",
      "And if memory is not enough, you can set `force_col_wise=true`.\n",
      "[LightGBM] [Info] Total Bins 1622\n",
      "[LightGBM] [Info] Number of data points in the train set: 6519, number of used features: 11\n",
      "[LightGBM] [Info] [binary:BoostFromScore]: pavg=0.503298 -> initscore=0.013192\n",
      "[LightGBM] [Info] Start training from score 0.013192\n"
     ]
    }
   ],
   "source": [
    "import lightgbm as lgb\n",
    "train=lgb.Dataset(X_train, label=y_train)\n",
    "\n",
    "params={}\n",
    "params['learning_rate']=0.03\n",
    "params['boosting_type']='gbdt' #GradientBoostingDecisionTree\n",
    "params['objective']='binary' #Binary target feature\n",
    "params['metric']='binary_logloss' #metric for binary classification\n",
    "params['max_depth']=5\n",
    "params['num_leaves']=5\n",
    "\n",
    "#train the model \n",
    "clf=lgb.train(params,train, 5000) #train the model on 100 epocs\n",
    "#prediction on the test set\n",
    "y_pred=clf.predict(X_test)"
   ]
  },
  {
   "cell_type": "code",
   "execution_count": 4,
   "id": "intelligent-validity",
   "metadata": {},
   "outputs": [
    {
     "name": "stdout",
     "output_type": "stream",
     "text": [
      "[0.1949328  0.71019003 0.09970114 ... 0.9527656  0.59749377 0.8361876 ]\n"
     ]
    }
   ],
   "source": [
    "print(y_pred)\n",
    "y_pred_bin = []\n",
    "for i in y_pred:\n",
    "    if i >= .5:\n",
    "        y_pred_bin.append(1)\n",
    "    else:\n",
    "        y_pred_bin.append(0)"
   ]
  },
  {
   "cell_type": "code",
   "execution_count": 5,
   "id": "official-exception",
   "metadata": {},
   "outputs": [
    {
     "data": {
      "text/plain": [
       "0.796228150873965"
      ]
     },
     "execution_count": 5,
     "metadata": {},
     "output_type": "execute_result"
    }
   ],
   "source": [
    "from sklearn.metrics import accuracy_score\n",
    "accuracy_score(y_test, y_pred_bin)"
   ]
  },
  {
   "cell_type": "code",
   "execution_count": 6,
   "id": "drawn-vienna",
   "metadata": {},
   "outputs": [
    {
     "name": "stdout",
     "output_type": "stream",
     "text": [
      "[0.96761006 0.84136995 0.15214094 ... 0.03465905 0.72062603 0.07840212]\n"
     ]
    },
    {
     "data": {
      "text/plain": [
       "0.8920079766835404"
      ]
     },
     "execution_count": 6,
     "metadata": {},
     "output_type": "execute_result"
    }
   ],
   "source": [
    "y_pred=clf.predict(X_train)\n",
    "print(y_pred)\n",
    "y_pred_bin = []\n",
    "for i in y_pred:\n",
    "    if i >= .5:\n",
    "        y_pred_bin.append(1)\n",
    "    else:\n",
    "        y_pred_bin.append(0)\n",
    "from sklearn.metrics import accuracy_score\n",
    "accuracy_score(y_train, y_pred_bin)"
   ]
  },
  {
   "cell_type": "code",
   "execution_count": 7,
   "id": "wicked-portuguese",
   "metadata": {},
   "outputs": [
    {
     "name": "stdout",
     "output_type": "stream",
     "text": [
      "[LightGBM] [Info] Number of positive: 4378, number of negative: 4315\n",
      "[LightGBM] [Warning] Auto-choosing row-wise multi-threading, the overhead of testing was 0.000988 seconds.\n",
      "You can set `force_row_wise=true` to remove the overhead.\n",
      "And if memory is not enough, you can set `force_col_wise=true`.\n",
      "[LightGBM] [Info] Total Bins 1624\n",
      "[LightGBM] [Info] Number of data points in the train set: 8693, number of used features: 11\n",
      "[LightGBM] [Info] [binary:BoostFromScore]: pavg=0.503624 -> initscore=0.014495\n",
      "[LightGBM] [Info] Start training from score 0.014495\n"
     ]
    }
   ],
   "source": [
    "train=lgb.Dataset(x, y)\n",
    "\n",
    "params={}\n",
    "params['learning_rate']=0.03\n",
    "params['boosting_type']='gbdt' #GradientBoostingDecisionTree\n",
    "params['objective']='binary' #Binary target feature\n",
    "params['metric']='binary_logloss' #metric for binary classification\n",
    "params['max_depth']=5\n",
    "params['num_leaves']=5\n",
    "\n",
    "#train the model \n",
    "clf=lgb.train(params, train, 5000) #train the model on 100 epocs\n",
    "#prediction on the test set\n",
    "y_pred=clf.predict(x_test)"
   ]
  },
  {
   "cell_type": "code",
   "execution_count": 8,
   "id": "gothic-pointer",
   "metadata": {},
   "outputs": [
    {
     "name": "stdout",
     "output_type": "stream",
     "text": [
      "[0.96608383 0.79573361 0.11685047 ... 0.03583651 0.70967989 0.19199571]\n"
     ]
    }
   ],
   "source": [
    "y_pred=clf.predict(X_train)\n",
    "print(y_pred)\n",
    "y_pred_bin = []\n",
    "for i in y_pred:\n",
    "    if i >= .5:\n",
    "        y_pred_bin.append(1)\n",
    "    else:\n",
    "        y_pred_bin.append(0)"
   ]
  },
  {
   "cell_type": "code",
   "execution_count": 9,
   "id": "intelligent-spain",
   "metadata": {},
   "outputs": [],
   "source": [
    "result_tf = []\n",
    "for i in  y_pred_bin:\n",
    "    if i == 0:\n",
    "        result_tf.append(False)\n",
    "    else:\n",
    "        result_tf.append(True)\n",
    "result_list = list(result_tf)"
   ]
  },
  {
   "cell_type": "code",
   "execution_count": 10,
   "id": "variable-progressive",
   "metadata": {},
   "outputs": [
    {
     "name": "stdout",
     "output_type": "stream",
     "text": [
      "0       0013_01\n",
      "1       0018_01\n",
      "2       0019_01\n",
      "3       0021_01\n",
      "4       0023_01\n",
      "         ...   \n",
      "4272    9266_02\n",
      "4273    9269_01\n",
      "4274    9271_01\n",
      "4275    9273_01\n",
      "4276    9277_01\n",
      "Name: PassengerId, Length: 4277, dtype: object\n",
      "<class 'pandas.core.series.Series'>\n",
      "<class 'list'>\n"
     ]
    }
   ],
   "source": [
    "print(data_test['PassengerId'])\n",
    "print(type(data_test['PassengerId']))\n",
    "passid = data_test['PassengerId'].tolist()\n",
    "print(type(passid))"
   ]
  },
  {
   "cell_type": "code",
   "execution_count": 11,
   "id": "established-liechtenstein",
   "metadata": {},
   "outputs": [],
   "source": [
    "df = pd.DataFrame(list(zip(passid, result_list)),\n",
    "               columns =['PassengerId', 'Transported'])"
   ]
  },
  {
   "cell_type": "code",
   "execution_count": 12,
   "id": "ordinary-tattoo",
   "metadata": {},
   "outputs": [],
   "source": [
    "df.to_csv(\"file.csv\", index = False)"
   ]
  },
  {
   "cell_type": "code",
   "execution_count": null,
   "id": "encouraging-cooling",
   "metadata": {},
   "outputs": [],
   "source": []
  }
 ],
 "metadata": {
  "kernelspec": {
   "display_name": "Python 3",
   "language": "python",
   "name": "python3"
  },
  "language_info": {
   "codemirror_mode": {
    "name": "ipython",
    "version": 3
   },
   "file_extension": ".py",
   "mimetype": "text/x-python",
   "name": "python",
   "nbconvert_exporter": "python",
   "pygments_lexer": "ipython3",
   "version": "3.9.6"
  }
 },
 "nbformat": 4,
 "nbformat_minor": 5
}
